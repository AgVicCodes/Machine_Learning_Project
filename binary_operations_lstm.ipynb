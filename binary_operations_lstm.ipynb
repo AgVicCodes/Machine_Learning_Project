{
 "cells": [
  {
   "cell_type": "code",
   "execution_count": null,
   "metadata": {},
   "outputs": [],
   "source": [
    "# !pip install PIL"
   ]
  },
  {
   "cell_type": "markdown",
   "metadata": {},
   "source": [
    "# Import Statements"
   ]
  },
  {
   "cell_type": "code",
   "execution_count": 148,
   "metadata": {},
   "outputs": [],
   "source": [
    "import os\n",
    "import ast\n",
    "import random\n",
    "import numpy as np\n",
    "import operator as op\n",
    "import tensorflow as tf\n",
    "from PIL import Image, ImageDraw, ImageFont\n",
    "from matplotlib import pyplot as plt\n",
    "from tensorflow.config import list_physical_devices"
   ]
  },
  {
   "cell_type": "markdown",
   "metadata": {},
   "source": [
    "<h4> Checking if our machine has GPU's to handle the computation</h4>"
   ]
  },
  {
   "cell_type": "code",
   "execution_count": 140,
   "metadata": {},
   "outputs": [
    {
     "name": "stdout",
     "output_type": "stream",
     "text": [
      "Name: /physical_device:GPU:0\n",
      "Type: GPU\n"
     ]
    }
   ],
   "source": [
    "gpus = list_physical_devices('GPU')\n",
    "\n",
    "for gpu in gpus:\n",
    "    print(f'Name: {gpu.name}')\n",
    "    print(f'Type: {gpu.device_type}')"
   ]
  },
  {
   "cell_type": "markdown",
   "metadata": {},
   "source": [
    "# Dataset Creation\n",
    "<h4> Defining the operators to include in the dataset</h4>"
   ]
  },
  {
   "cell_type": "code",
   "execution_count": 149,
   "metadata": {},
   "outputs": [],
   "source": [
    "operators = ['+', '-', '*', '/']\n",
    "\n",
    "additive_ops = operators[:2]"
   ]
  },
  {
   "cell_type": "code",
   "execution_count": 150,
   "metadata": {},
   "outputs": [],
   "source": [
    "num_range = (1, 99)\n",
    "\n",
    "def generate_expressions(max_terms = 3):\n",
    "    num_terms = random.randint(2, max_terms)\n",
    "    expression = ''\n",
    "\n",
    "    for i in range(num_terms):\n",
    "        number = str(random.randint(*num_range))\n",
    "        expression += number\n",
    "\n",
    "        if i < num_terms - 1:\n",
    "            symbol = random.choice(additive_ops)\n",
    "            expression += f' {symbol} '\n",
    "        \n",
    "    return expression"
   ]
  },
  {
   "cell_type": "code",
   "execution_count": 151,
   "metadata": {},
   "outputs": [],
   "source": [
    "num_samples = 18540\n",
    "\n",
    "expression = [generate_expressions() for _ in range(num_samples)]"
   ]
  },
  {
   "cell_type": "code",
   "execution_count": 152,
   "metadata": {},
   "outputs": [
    {
     "data": {
      "text/plain": [
       "['fonts/Handwritten.ttf',\n",
       " 'fonts/Hello Dream.otf',\n",
       " 'fonts/TheWeddingSignature-Regular.ttf',\n",
       " 'fonts/phitradesign Handwritten Thin.ttf',\n",
       " 'fonts/Christoper Brothers.otf']"
      ]
     },
     "execution_count": 152,
     "metadata": {},
     "output_type": "execute_result"
    }
   ],
   "source": [
    "font_path = 'fonts'\n",
    "fonts = [os.path.join(font_path, path) for path in os.listdir(font_path)]\n",
    "fonts"
   ]
  },
  {
   "cell_type": "code",
   "execution_count": 153,
   "metadata": {},
   "outputs": [],
   "source": [
    "def text_to_image(text, font_path = fonts, font_size = 20, img_size = (128, 128)):\n",
    "    img = Image.new('L', img_size, color = 255)\n",
    "    draw = ImageDraw.Draw(img)\n",
    "    try:\n",
    "        if font_path:\n",
    "            font = ImageFont.truetype(random.choice(font_path), font_size)\n",
    "        else:\n",
    "            font = ImageFont.load_default()\n",
    "    except OSError:\n",
    "        print(f\"Font not found: {font_path}. Using default font.\")\n",
    "        font = ImageFont.load_default()\n",
    "\n",
    "    bbox = draw.textbbox((0, 0), text, font=font)\n",
    "    text_width = bbox[2] - bbox[0]\n",
    "    text_height = bbox[3] - bbox[1]\n",
    "    \n",
    "    position = ((img_size[0] - text_width) // 2, (img_size[1] - text_height) // 2)\n",
    "    draw.text(position, text, fill = 0, font=font)\n",
    "    return img\n",
    "\n",
    "images = [text_to_image(expr) for expr in expression]"
   ]
  },
  {
   "cell_type": "code",
   "execution_count": 201,
   "metadata": {},
   "outputs": [
    {
     "data": {
      "image/png": "[encoded data removed]",
      "text/plain": [
       "<Figure size 640x480 with 1 Axes>"
      ]
     },
     "metadata": {},
     "output_type": "display_data"
    }
   ],
   "source": [
    "num = random.randint(0, len(expression) - 1)\n",
    "\n",
    "plt.imshow(images[num])\n",
    "plt.axis('off')\n",
    "plt.tight_layout()\n",
    "# plt.title(f'Expression: {expression[num]}, Output: {label[num]}')\n",
    "plt.savefig('img01')"
   ]
  },
  {
   "cell_type": "code",
   "execution_count": 146,
   "metadata": {},
   "outputs": [],
   "source": [
    "label = [eval(exp) for exp in expression]"
   ]
  },
  {
   "cell_type": "code",
   "execution_count": 126,
   "metadata": {},
   "outputs": [],
   "source": [
    "def image_2_numpy(images): \n",
    "    \n",
    "    image_ds = np.array([np.array(img) for img in images]).astype('float32')\n",
    "\n",
    "    image_ds /= 255.0\n",
    "\n",
    "    image_ds = image_ds.reshape(-1, 128, 128, 1)\n",
    "\n",
    "    return image_ds"
   ]
  },
  {
   "cell_type": "code",
   "execution_count": 127,
   "metadata": {},
   "outputs": [],
   "source": [
    "def labels_2_numpy(labels):\n",
    "    return np.array(labels)"
   ]
  },
  {
   "cell_type": "code",
   "execution_count": 128,
   "metadata": {},
   "outputs": [],
   "source": [
    "X = image_2_numpy(images)"
   ]
  },
  {
   "cell_type": "code",
   "execution_count": 130,
   "metadata": {},
   "outputs": [],
   "source": [
    "Y_expressions = labels_2_numpy(expression)\n",
    "\n",
    "Y_labels = labels_2_numpy(label)"
   ]
  },
  {
   "cell_type": "code",
   "execution_count": 133,
   "metadata": {},
   "outputs": [],
   "source": [
    "path = 'dataset/handwritten_labels.npz'\n",
    "\n",
    "np.savez('dataset/handwritten_labels.npz', X = X, Y = Y_labels)\n",
    "np.savez('dataset/handwritten_labels.npz', X = X, Y = Y_expressions)"
   ]
  },
  {
   "cell_type": "code",
   "execution_count": 136,
   "metadata": {},
   "outputs": [],
   "source": [
    "# data = np.load(path)\n",
    "\n",
    "# X = data['X']\n",
    "# Y = data['Y']\n",
    "\n",
    "# X, Y"
   ]
  },
  {
   "cell_type": "code",
   "execution_count": null,
   "metadata": {},
   "outputs": [],
   "source": []
  },
  {
   "cell_type": "code",
   "execution_count": null,
   "metadata": {},
   "outputs": [],
   "source": []
  },
  {
   "cell_type": "code",
   "execution_count": null,
   "metadata": {},
   "outputs": [],
   "source": []
  },
  {
   "cell_type": "code",
   "execution_count": null,
   "metadata": {},
   "outputs": [],
   "source": []
  },
  {
   "cell_type": "code",
   "execution_count": null,
   "metadata": {},
   "outputs": [],
   "source": []
  },
  {
   "cell_type": "code",
   "execution_count": null,
   "metadata": {},
   "outputs": [],
   "source": []
  },
  {
   "cell_type": "code",
   "execution_count": null,
   "metadata": {},
   "outputs": [],
   "source": []
  },
  {
   "cell_type": "code",
   "execution_count": null,
   "metadata": {},
   "outputs": [],
   "source": []
  },
  {
   "cell_type": "code",
   "execution_count": null,
   "metadata": {},
   "outputs": [],
   "source": []
  },
  {
   "cell_type": "code",
   "execution_count": null,
   "metadata": {},
   "outputs": [],
   "source": []
  },
  {
   "cell_type": "code",
   "execution_count": null,
   "metadata": {},
   "outputs": [],
   "source": []
  },
  {
   "cell_type": "code",
   "execution_count": null,
   "metadata": {},
   "outputs": [],
   "source": []
  },
  {
   "cell_type": "code",
   "execution_count": null,
   "metadata": {},
   "outputs": [],
   "source": []
  },
  {
   "cell_type": "code",
   "execution_count": null,
   "metadata": {},
   "outputs": [],
   "source": []
  },
  {
   "cell_type": "code",
   "execution_count": null,
   "metadata": {},
   "outputs": [],
   "source": []
  },
  {
   "cell_type": "code",
   "execution_count": null,
   "metadata": {},
   "outputs": [],
   "source": []
  },
  {
   "cell_type": "code",
   "execution_count": null,
   "metadata": {},
   "outputs": [],
   "source": []
  },
  {
   "cell_type": "code",
   "execution_count": null,
   "metadata": {},
   "outputs": [],
   "source": []
  },
  {
   "cell_type": "code",
   "execution_count": null,
   "metadata": {},
   "outputs": [],
   "source": []
  },
  {
   "cell_type": "code",
   "execution_count": null,
   "metadata": {},
   "outputs": [],
   "source": []
  },
  {
   "cell_type": "code",
   "execution_count": null,
   "metadata": {},
   "outputs": [],
   "source": []
  },
  {
   "cell_type": "code",
   "execution_count": null,
   "metadata": {},
   "outputs": [],
   "source": []
  },
  {
   "cell_type": "code",
   "execution_count": null,
   "metadata": {},
   "outputs": [],
   "source": []
  },
  {
   "cell_type": "code",
   "execution_count": null,
   "metadata": {},
   "outputs": [],
   "source": []
  },
  {
   "cell_type": "code",
   "execution_count": null,
   "metadata": {},
   "outputs": [],
   "source": []
  },
  {
   "cell_type": "code",
   "execution_count": null,
   "metadata": {},
   "outputs": [],
   "source": []
  },
  {
   "cell_type": "code",
   "execution_count": null,
   "metadata": {},
   "outputs": [],
   "source": []
  },
  {
   "cell_type": "code",
   "execution_count": null,
   "metadata": {},
   "outputs": [],
   "source": []
  },
  {
   "cell_type": "code",
   "execution_count": null,
   "metadata": {},
   "outputs": [],
   "source": []
  },
  {
   "cell_type": "code",
   "execution_count": null,
   "metadata": {},
   "outputs": [],
   "source": []
  },
  {
   "cell_type": "code",
   "execution_count": null,
   "metadata": {},
   "outputs": [],
   "source": []
  },
  {
   "cell_type": "code",
   "execution_count": null,
   "metadata": {},
   "outputs": [],
   "source": []
  },
  {
   "cell_type": "code",
   "execution_count": null,
   "metadata": {},
   "outputs": [],
   "source": []
  }
 ],
 "metadata": {
  "kernelspec": {
   "display_name": "Python 3 (ipykernel)",
   "language": "python",
   "name": "python3"
  }
 },
 "nbformat": 4,
 "nbformat_minor": 2
}
